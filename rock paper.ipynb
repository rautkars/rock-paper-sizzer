{
 "cells": [
  {
   "cell_type": "code",
   "execution_count": 1,
   "id": "53ad19df-54e1-4ce6-bdab-3f89022da1ca",
   "metadata": {},
   "outputs": [
    {
     "name": "stdout",
     "output_type": "stream",
     "text": [
      "stone paper sizerer game choose 0=stone, 1=paper, 2=sizzer\n"
     ]
    },
    {
     "name": "stdin",
     "output_type": "stream",
     "text": [
      "Enter your choise :  2\n"
     ]
    },
    {
     "name": "stdout",
     "output_type": "stream",
     "text": [
      "Your choice: sizzer\n",
      "\n",
      "computer_choice: paper\n",
      "\n",
      "you win !!\n"
     ]
    }
   ],
   "source": [
    "import random\n",
    "\n",
    "print('stone paper sizerer game choose\n",
    "      0=stone, 1=paper, 2=sizzer')\n",
    "\n",
    "user_choice = int(input('Enter your choise : '))#user choice \n",
    "if user_choice==0:\n",
    "    print('Your choice: stone\\n')\n",
    "elif user_choice==1:\n",
    "    print('Your choice: paper\\n')\n",
    "elif user_choice==2:\n",
    "    print('Your choice: sizzer\\n')\n",
    "    \n",
    "computer_choice = random.randint(0,2)  #computer choice\n",
    "if computer_choice==0:\n",
    "    print('computer_choice: stone\\n')\n",
    "elif computer_choice==1:\n",
    "    print('computer_choice: paper\\n')\n",
    "elif computer_choice==2:\n",
    "    print('computer_choice: sizzer\\n')\n",
    "\n",
    "\n",
    "if user_choice >2 or user_choice<0:\n",
    "    print('You lose !! (Because choice wrong input )')\n",
    "elif user_choice == 0 and computer_choice == 2:\n",
    "    print('you win !!')\n",
    "elif computer_choice == 0 and user_choice == 2:\n",
    "    print('You Lose !!')\n",
    "elif computer_choice>user_choice:\n",
    "    print('you Lose !')\n",
    "elif user_choice>computer_choice:\n",
    "    print('you win !!')\n",
    "elif user_choice == computer_choice:\n",
    "    print('It\\'s Draw !!!')"
   ]
  },
  {
   "cell_type": "code",
   "execution_count": null,
   "id": "20076e64-1da7-457a-a53a-f5ae2ffd7f20",
   "metadata": {},
   "outputs": [],
   "source": []
  }
 ],
 "metadata": {
  "kernelspec": {
   "display_name": "Python 3 (ipykernel)",
   "language": "python",
   "name": "python3"
  },
  "language_info": {
   "codemirror_mode": {
    "name": "ipython",
    "version": 3
   },
   "file_extension": ".py",
   "mimetype": "text/x-python",
   "name": "python",
   "nbconvert_exporter": "python",
   "pygments_lexer": "ipython3",
   "version": "3.10.8"
  }
 },
 "nbformat": 4,
 "nbformat_minor": 5
}
